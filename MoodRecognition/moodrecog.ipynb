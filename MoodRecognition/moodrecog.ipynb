{
 "cells": [
  {
   "cell_type": "code",
   "execution_count": null,
   "metadata": {},
   "outputs": [],
   "source": [
    "import cv2\n",
    "import os\n",
    "import numpy as np\n",
    "import sys"
   ]
  },
  {
   "cell_type": "markdown",
   "metadata": {},
   "source": [
    "## Files"
   ]
  },
  {
   "cell_type": "code",
   "execution_count": null,
   "metadata": {},
   "outputs": [],
   "source": [
    "haar_cascade_path = 'Activity7_FaceRecognition/haarcascade_frontalface_default.xml'"
   ]
  },
  {
   "cell_type": "code",
   "execution_count": null,
   "metadata": {},
   "outputs": [],
   "source": [
    "def video_detect(video_files, save_folder):\n",
    "    print(\"Detecting video\")\n",
    "    face_cascade = cv2.CascadeClassifier(haar_cascade_path)\n",
    "    j = 1 #counter of saved images\n",
    "    \n",
    "    for file in video_files:\n",
    "        video = cv2.VideoCapture(file)\n",
    "        if not video.isOpened():\n",
    "            print(f\"Error: Could not open video file {file}\")\n",
    "            continue\n",
    "\n",
    "        while True:\n",
    "            ret, frame = video.read()\n",
    "            if not ret:\n",
    "                break\n",
    "            gray = cv2.cvtColor(frame, cv2.COLOR_BGR2GRAY)\n",
    "\n",
    "            faces = face_cascade.detectMultiScale(gray, 1.1, 5)\n",
    "\n",
    "            for (x, y, w, h) in faces:\n",
    "                roi_gray = gray[y:y + h, x:x + w]\n",
    "                cv2.imwrite(os.path.join(save_folder, f'image_{j}.jpg'), roi_gray)\n",
    "                j += 1\n",
    "        video.release()"
   ]
  },
  {
   "cell_type": "code",
   "execution_count": null,
   "metadata": {},
   "outputs": [],
   "source": [
    "root = 'Activity7_FaceRecognition/'\n",
    "moods = ['Happy','Sad','Angry','Confused']\n",
    "path = 'images'\n",
    "for mood in moods:\n",
    "  print(mood)\n",
    "  video_detect(root+f'raw_images/{mood}',root+f'images/{mood}')\n",
    "    "
   ]
  },
  {
   "cell_type": "markdown",
   "metadata": {},
   "source": [
    "## Recognition"
   ]
  },
  {
   "cell_type": "code",
   "execution_count": null,
   "metadata": {},
   "outputs": [],
   "source": [
    "def read_images(path, sz=None):\n",
    "  c = 0\n",
    "  X, y = [], []\n",
    "\n",
    "  for dirname, dirnames, filenames in os.walk(path):\n",
    "    for subdirname in dirnames:\n",
    "      subject_path = os.path.join(dirname, subdirname)\n",
    "      for filename in os.listdir(subject_path):\n",
    "        try:\n",
    "          if(filename == \".directory\"):\n",
    "            continue\n",
    "          filepath = os.path.join(subject_path, filename)\n",
    "          im = cv2.imread(os.path.join(subject_path, filename), cv2.IMREAD_GRAYSCALE)\n",
    "\n",
    "          # Resize the images to the prescribed size\n",
    "          if (sz is not None):\n",
    "            im = cv2.resize(im, (200,200))\n",
    "\n",
    "          X.append(np.asarray(im, dtype=np.uint8))\n",
    "          y.append(c)\n",
    "\n",
    "        except IOError as e:\n",
    "          print(f\"I/O Error({e.errno}): {e.strerror}\")\n",
    "        except:\n",
    "          print(\"Unexpected error:\", sys.exc_info()[0])\n",
    "          raise\n",
    "      c = c+1\n",
    "  return [X, y]"
   ]
  },
  {
   "cell_type": "code",
   "execution_count": null,
   "metadata": {},
   "outputs": [],
   "source": [
    "def face_rec():\n",
    "  if len(sys.argv) < 2:\n",
    "    print(\"USAGE: facerec_demo.py </path/to/images> [</path/to/store/images/at>]\")\n",
    "    sys.exit()\n",
    "\n",
    "  [X,y] = read_images(path,sz=200)\n",
    "  y = np.asarray(y, dtype=np.int32)\n",
    "  model = cv2.face.EigenFaceRecognizer_create()\n",
    "  model.train(X, y)\n",
    "\n",
    "  camera = cv2.VideoCapture(0)\n",
    "  face_cascade = cv2.CascadeClassifier(haar_cascade_path)\n",
    "\n",
    "  while True:\n",
    "    ret, img = camera.read()\n",
    "    if not ret:\n",
    "      break\n",
    "\n",
    "    faces = face_cascade.detectMultiScale(img, 1.1, 5)\n",
    "\n",
    "    for (x, y, w, h) in faces:\n",
    "      cv2.rectangle(img, (x, y), (x + w, y + h), (255, 0, 0), 2)\n",
    "      gray = cv2.cvtColor(img[y:y + h, x:x + w], cv2.COLOR_BGR2GRAY)\n",
    "      roi = cv2.resize(gray, (200, 200), interpolation=cv2.INTER_LINEAR)\n",
    "\n",
    "      try:\n",
    "        params = model.predict(roi)\n",
    "        label = mood[params[0]]\n",
    "        cv2.putText(img, label + \", \" + str(params[1]), (x, y - 20), cv2.FONT_HERSHEY_SIMPLEX, 1, (255, 0, 0), 2)\n",
    "      except:\n",
    "        continue\n",
    "\n",
    "    cv2.imshow(\"camera\", img)\n",
    "    if cv2.waitKey(1) & 0xFF == ord(\"q\"):\n",
    "      break\n",
    "\n",
    "  camera.release()\n",
    "  cv2.destroyAllWindows()"
   ]
  },
  {
   "cell_type": "markdown",
   "metadata": {},
   "source": [
    "## Testing"
   ]
  },
  {
   "cell_type": "code",
   "execution_count": null,
   "metadata": {},
   "outputs": [],
   "source": [
    "face_rec()"
   ]
  }
 ],
 "metadata": {
  "kernelspec": {
   "display_name": "Python 3",
   "language": "python",
   "name": "python3"
  },
  "language_info": {
   "name": "python",
   "version": "3.11.4"
  },
  "orig_nbformat": 4
 },
 "nbformat": 4,
 "nbformat_minor": 2
}
